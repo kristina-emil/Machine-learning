{
 "cells": [
  {
   "cell_type": "markdown",
   "metadata": {
    "colab_type": "text",
    "id": "I2rTGDBJWkgW"
   },
   "source": [
    "# Домашная работа. Визуальный анализ.\n",
    "\n",
    "1. Скачайте этот ноутбук к себе.\n",
    "2. Заполните пропущенные ячейки, отвечая на заданные вопросы. Там должен быть код! (если не сказано обратное)\n",
    "3. Сохраните результат в своём репозитории.\n",
    "\n",
    "#### Полезная литература\n",
    "\n",
    "- [Галерея графиков Matplotlib](https://matplotlib.org/gallery/index.html)\n",
    "- [Галерея графиков Seaborn](http://seaborn.pydata.org/examples/index.html)\n",
    "- [Открытый курс машинного обучения. Тема 2: Визуализация данных c Python](https://habr.com/company/ods/blog/323210/)"
   ]
  },
  {
   "cell_type": "code",
   "execution_count": 1,
   "metadata": {
    "colab": {},
    "colab_type": "code",
    "id": "xXXNyGgor8cS"
   },
   "outputs": [],
   "source": [
    "import pandas as pd\n",
    "import matplotlib.pyplot as plt\n",
    "import seaborn as sns"
   ]
  },
  {
   "cell_type": "markdown",
   "metadata": {
    "colab_type": "text",
    "id": "vLudpr72YzsA"
   },
   "source": [
    "## Визуальный анализ данных\n",
    "\n",
    "В этом задании вам предлагается провести визуальный анализ датасета результатов экзаменов студентов  https://www.kaggle.com/spscientist/students-performance-in-exams. "
   ]
  },
  {
   "cell_type": "code",
   "execution_count": 2,
   "metadata": {
    "colab": {},
    "colab_type": "code",
    "id": "NASz2d9Qsn2y"
   },
   "outputs": [
    {
     "data": {
      "text/html": [
       "<div>\n",
       "<style scoped>\n",
       "    .dataframe tbody tr th:only-of-type {\n",
       "        vertical-align: middle;\n",
       "    }\n",
       "\n",
       "    .dataframe tbody tr th {\n",
       "        vertical-align: top;\n",
       "    }\n",
       "\n",
       "    .dataframe thead th {\n",
       "        text-align: right;\n",
       "    }\n",
       "</style>\n",
       "<table border=\"1\" class=\"dataframe\">\n",
       "  <thead>\n",
       "    <tr style=\"text-align: right;\">\n",
       "      <th></th>\n",
       "      <th>gender</th>\n",
       "      <th>race/ethnicity</th>\n",
       "      <th>parental level of education</th>\n",
       "      <th>lunch</th>\n",
       "      <th>test preparation course</th>\n",
       "      <th>math score</th>\n",
       "      <th>reading score</th>\n",
       "      <th>writing score</th>\n",
       "    </tr>\n",
       "  </thead>\n",
       "  <tbody>\n",
       "    <tr>\n",
       "      <th>0</th>\n",
       "      <td>female</td>\n",
       "      <td>group B</td>\n",
       "      <td>bachelor's degree</td>\n",
       "      <td>standard</td>\n",
       "      <td>none</td>\n",
       "      <td>72</td>\n",
       "      <td>72</td>\n",
       "      <td>74</td>\n",
       "    </tr>\n",
       "    <tr>\n",
       "      <th>1</th>\n",
       "      <td>female</td>\n",
       "      <td>group C</td>\n",
       "      <td>some college</td>\n",
       "      <td>standard</td>\n",
       "      <td>completed</td>\n",
       "      <td>69</td>\n",
       "      <td>90</td>\n",
       "      <td>88</td>\n",
       "    </tr>\n",
       "    <tr>\n",
       "      <th>2</th>\n",
       "      <td>female</td>\n",
       "      <td>group B</td>\n",
       "      <td>master's degree</td>\n",
       "      <td>standard</td>\n",
       "      <td>none</td>\n",
       "      <td>90</td>\n",
       "      <td>95</td>\n",
       "      <td>93</td>\n",
       "    </tr>\n",
       "    <tr>\n",
       "      <th>3</th>\n",
       "      <td>male</td>\n",
       "      <td>group A</td>\n",
       "      <td>associate's degree</td>\n",
       "      <td>free/reduced</td>\n",
       "      <td>none</td>\n",
       "      <td>47</td>\n",
       "      <td>57</td>\n",
       "      <td>44</td>\n",
       "    </tr>\n",
       "    <tr>\n",
       "      <th>4</th>\n",
       "      <td>male</td>\n",
       "      <td>group C</td>\n",
       "      <td>some college</td>\n",
       "      <td>standard</td>\n",
       "      <td>none</td>\n",
       "      <td>76</td>\n",
       "      <td>78</td>\n",
       "      <td>75</td>\n",
       "    </tr>\n",
       "  </tbody>\n",
       "</table>\n",
       "</div>"
      ],
      "text/plain": [
       "   gender race/ethnicity parental level of education         lunch  \\\n",
       "0  female        group B           bachelor's degree      standard   \n",
       "1  female        group C                some college      standard   \n",
       "2  female        group B             master's degree      standard   \n",
       "3    male        group A          associate's degree  free/reduced   \n",
       "4    male        group C                some college      standard   \n",
       "\n",
       "  test preparation course  math score  reading score  writing score  \n",
       "0                    none          72             72             74  \n",
       "1               completed          69             90             88  \n",
       "2                    none          90             95             93  \n",
       "3                    none          47             57             44  \n",
       "4                    none          76             78             75  "
      ]
     },
     "execution_count": 2,
     "metadata": {},
     "output_type": "execute_result"
    }
   ],
   "source": [
    "df = pd.read_csv(\"data/StudentsPerformance.csv.zip\")\n",
    "df.head()"
   ]
  },
  {
   "cell_type": "markdown",
   "metadata": {
    "colab_type": "text",
    "id": "bXQbQ_rSGvSm"
   },
   "source": [
    "## Задания\n",
    "#### 1. Постройте 3 графика, показывающих распределение результатов экзаменов (каждый график на предмет).\n",
    "\n",
    "\n",
    "Графики должны быть в одном ряду и у них должен быть общий заголовок \"Результаты экзаменов\".\n",
    "\n",
    "Для результатов каждого экзамена посчитайте медианные значения.\n"
   ]
  },
  {
   "cell_type": "code",
   "execution_count": null,
   "metadata": {
    "colab": {},
    "colab_type": "code",
    "id": "0_N-Vhj52AZe"
   },
   "outputs": [],
   "source": [
    "# Загрузка данных\n",
    "df = pd.read_csv(\"data/StudentsPerformance.csv.zip\")\n",
    "\n",
    "# Построение графиков\n",
    "plt.figure(figsize=(15, 5))\n",
    "plt.suptitle(\"Результаты экзаменов\")\n",
    "\n",
    "# Математика\n",
    "plt.subplot(1, 3, 1)\n",
    "sns.histplot(df['math score'], kde=True)\n",
    "plt.title('Баллы по математике')\n",
    "plt.axvline(df['math score'].median(), color='r', linestyle='--', label='Медиана')\n",
    "plt.legend()\n",
    "\n",
    "# Чтение\n",
    "plt.subplot(1, 3, 2)\n",
    "sns.histplot(df['reading score'], kde=True)\n",
    "plt.title('Баллы по чтению')\n",
    "plt.axvline(df['reading score'].median(), color='r', linestyle='--', label='Медиана')\n",
    "plt.legend()\n",
    "\n",
    "# Письмо\n",
    "plt.subplot(1, 3, 3)\n",
    "sns.histplot(df['writing score'], kde=True)\n",
    "plt.title('Баллы по письму')\n",
    "plt.axvline(df['writing score'].median(), color='r', linestyle='--', label='Медиана')\n",
    "plt.legend()\n",
    "\n",
    "plt.tight_layout()\n",
    "plt.show()"
   ]
  },
  {
   "cell_type": "code",
   "execution_count": null,
   "metadata": {
    "colab": {},
    "colab_type": "code",
    "id": "uyODj6A99nR2"
   },
   "outputs": [],
   "source": []
  },
  {
   "cell_type": "markdown",
   "metadata": {
    "colab_type": "text",
    "id": "Iu0c3MQzIBBC"
   },
   "source": [
    "#### 2. Образование родителей\n",
    "Какие уровни образование есть в столбце *'parental level of education'* и сколько строк в датафрейме соответствует каждому уровню? \n",
    "\n",
    "Постройте график и ответьте на вопрос ниже\n",
    "\n",
    "Отличаются ли баллы по математике у детей с разным образованием родителей?\n",
    "Постройте график, где по оси Х находятся уровни образования родителей, а по У - баллы по математике.\n"
   ]
  },
  {
   "cell_type": "code",
   "execution_count": null,
   "metadata": {
    "colab": {},
    "colab_type": "code",
    "id": "-k2XGvhDxwFm"
   },
   "outputs": [],
   "source": [
    "# Уровни образования родителей\n",
    "education_counts = df['parental level of education'].value_counts()\n",
    "print(education_counts)\n",
    "\n",
    "# Построение графика\n",
    "plt.figure(figsize=(10, 5))\n",
    "sns.countplot(data=df, y='parental level of education', order=education_counts.index)\n",
    "plt.title('Количество студентов по уровню образования родителей')\n",
    "plt.show()\n",
    "\n",
    "# Сравнение баллов по математике\n",
    "plt.figure(figsize=(10, 5))\n",
    "sns.boxplot(x='parental level of education', y='math score', data=df)\n",
    "plt.title('Баллы по математике в зависимости от образования родителей')\n",
    "plt.xticks(rotation=45)\n",
    "plt.show()"
   ]
  },
  {
   "cell_type": "markdown",
   "metadata": {
    "colab_type": "text",
    "id": "Sw9FPFiSIYfv"
   },
   "source": [
    "#### 3. Выведите число студенток, набравших больше 90 баллов по всем предметам.\n"
   ]
  },
  {
   "cell_type": "code",
   "execution_count": null,
   "metadata": {
    "colab": {},
    "colab_type": "code",
    "id": "GLxqaInREE6c"
   },
   "outputs": [],
   "source": [
    "num_females_above_90 = df[(df['gender'] == 'female') & (df['math score'] > 90) & (df['reading score'] > 90) & (df['writing score'] > 90)].shape[0]\n",
    "\n",
    "print(\"Число студенток, набравших больше 90 баллов по всем предметам:\", num_females_above_90)"
   ]
  },
  {
   "cell_type": "markdown",
   "metadata": {
    "colab_type": "text",
    "id": "p1djXs5-EmEE"
   },
   "source": [
    "#### 4. Сравните баллы у студентов разных полов. Используя agg() выведите минимальное, максимальное и медианное значение\n",
    " "
   ]
  },
  {
   "cell_type": "code",
   "execution_count": null,
   "metadata": {
    "colab": {},
    "colab_type": "code",
    "id": "TNHyt2UOFH4i"
   },
   "outputs": [],
   "source": [
    "gender_stats = df.groupby('gender').agg({'math score': ['min', 'max', 'median'],'reading score': ['min', 'max', 'median'],'writing score': ['min', 'max', 'median']})\n",
    "print(gender_stats)"
   ]
  },
  {
   "cell_type": "markdown",
   "metadata": {
    "colab_type": "text",
    "id": "GLRV8yYSFWxc"
   },
   "source": [
    "#### 5. Выясните, влияет ли обед и подготовка к тесту на средний балл студентов разного пола \n",
    "###### (подсказка: используете agg())"
   ]
  },
  {
   "cell_type": "code",
   "execution_count": null,
   "metadata": {
    "colab": {},
    "colab_type": "code",
    "id": "NZqvqVFBFSAX"
   },
   "outputs": [],
   "source": [
    "lunch_test_stats = df.groupby(['lunch', 'test preparation course']).agg({'math score': 'mean', 'reading score': 'mean','writing score': 'mean'})\n",
    "print(lunch_test_stats)"
   ]
  },
  {
   "cell_type": "markdown",
   "metadata": {
    "colab_type": "text",
    "id": "4iWfT1LAIsD6"
   },
   "source": [
    "#### 6. Постройте график, показывающий зависимость уровня образования родителей от их расы "
   ]
  },
  {
   "cell_type": "code",
   "execution_count": null,
   "metadata": {
    "colab": {},
    "colab_type": "code",
    "id": "Yq59hOngIrZU"
   },
   "outputs": [],
   "source": [
    "plt.figure(figsize=(10, 5))\n",
    "sns.countplot(data=df, x='race/ethnicity', hue='parental level of education')\n",
    "plt.title('Зависимость уровня образования родителей от расы')\n",
    "plt.show()"
   ]
  },
  {
   "cell_type": "markdown",
   "metadata": {
    "colab_type": "text",
    "id": "WEuMRUTXJhGR"
   },
   "source": [
    "#### 7. Постройте график, показывающий зависимость прохождения подготовительного теста от уровня образования родителей.\n",
    "\n",
    "\n",
    "Кто чаще ходит на курсы: дети, родители которых закончили только старшую школу, или дети, чьи родители получили степень бакалавра\\магистра?"
   ]
  },
  {
   "cell_type": "code",
   "execution_count": null,
   "metadata": {
    "colab": {},
    "colab_type": "code",
    "id": "6IVov0O_Jgq4"
   },
   "outputs": [],
   "source": [
    "plt.figure(figsize=(10, 5))\n",
    "sns.countplot(data=df, x='parental level of education', hue='test preparation course')\n",
    "plt.title('Зависимость прохождения подготовительного теста от образования родителей')\n",
    "plt.show()"
   ]
  },
  {
   "cell_type": "markdown",
   "metadata": {
    "colab_type": "text",
    "id": "8lXO-vmvKqQQ"
   },
   "source": [
    "#### 8. Постройте plot.pie, показывающий, сколько людей сдали\\не сдали экзамен по математике.\n",
    "\n",
    "Сдавшим считается человек, набравший 40 баллов.\n",
    "\n",
    "###### Подсказка: создайте столбец в датафрейме, который содержит результат сдачи (сдал или не сдал)"
   ]
  },
  {
   "cell_type": "code",
   "execution_count": null,
   "metadata": {
    "colab": {},
    "colab_type": "code",
    "id": "avMZyzRrKgzj"
   },
   "outputs": [],
   "source": [
    "df['math_pass'] = df['math score'] >= 40\n",
    "pass_counts = df['math_pass'].value_counts()\n",
    "\n",
    "plt.figure(figsize=(8, 8))\n",
    "plt.pie(pass_counts, labels=['Не сдал', 'Сдал'], autopct='%1.1f%%', startangle=90)\n",
    "plt.title('Сдача экзамена по математике')\n",
    "plt.axis('equal')\n",
    "plt.show()"
   ]
  },
  {
   "cell_type": "markdown",
   "metadata": {
    "colab_type": "text",
    "id": "CDq0YqVLL6Ce"
   },
   "source": [
    "#### 9. Постройте plot.pie, показывающий распределение студентов по оценкам\n",
    "\n",
    "Оценки студентов выставляются по шкале:<br>\n",
    "0  - 40 marks : grade E<br>\n",
    "41 - 60 marks : grade D<br>\n",
    "60 - 70 marks : grade C<br>\n",
    "70 - 80 marks : grade B<br>\n",
    "80 - 90 marks : grade A<br>\n",
    "90 - 100 marks : grade O<br>\n",
    "\n",
    "Для этого посчитайте сумму результатов за 3 экзамена и найдите среднее. Оценка выставляется по среднему значению. Если студент не сдал математику(даже если средний балл выше 40), он получает Е"
   ]
  },
  {
   "cell_type": "code",
   "execution_count": null,
   "metadata": {
    "colab": {},
    "colab_type": "code",
    "id": "o_7WndmiP4jM"
   },
   "outputs": [],
   "source": [
    "# Расчет средней оценки\n",
    "df['average_score'] = (df['math score'] + df['reading score'] + df['writing score']) / 3\n",
    "\n",
    "# Определение оценок\n",
    "def assign_grade(row):\n",
    "    if row['math score'] < 40:\n",
    "        return 'E'\n",
    "    elif row['average_score'] <= 40:\n",
    "        return 'E'\n",
    "    elif row['average_score'] <= 60:\n",
    "        return 'D'\n",
    "    elif row['average_score'] <= 70:\n",
    "        return 'C'\n",
    "    elif row['average_score'] <= 80:\n",
    "        return 'B'\n",
    "    elif row['average_score'] <= 90:\n",
    "        return 'A'\n",
    "    else:\n",
    "        return 'O'\n",
    "\n",
    "df['grade'] = df.apply(assign_grade, axis=1)\n",
    "\n",
    "grade_counts = df['grade'].value_counts()\n",
    "plt.figure(figsize=(8, 8))\n",
    "plt.pie(grade_counts, labels=grade_counts.index, autopct='%1.1f%%', startangle=90)\n",
    "plt.title('Распределение студентов по оценкам')\n",
    "plt.axis('equal')\n",
    "plt.show()"
   ]
  },
  {
   "cell_type": "markdown",
   "metadata": {
    "colab_type": "text",
    "id": "p9hannzMQQT7"
   },
   "source": [
    "#### 10. Постройте countplot, показывающий зависимость между итоговой оценкой студентов и его полом. Студенты какого пола получили больше оценок О, А, В"
   ]
  },
  {
   "cell_type": "code",
   "execution_count": null,
   "metadata": {
    "colab": {},
    "colab_type": "code",
    "id": "b31g7OlGQK-6"
   },
   "outputs": [],
   "source": [
    "plt.figure(figsize=(10, 5))\n",
    "sns.countplot(data=df, x='grade', hue='gender')\n",
    "plt.title('Зависимость итоговой оценки студентов от пола')\n",
    "plt.show()"
   ]
  }
 ],
 "metadata": {
  "colab": {
   "collapsed_sections": [],
   "name": "without_code96_hw_visualisation_pandas.ipynb",
   "provenance": []
  },
  "kernelspec": {
   "display_name": "Python 3 (ipykernel)",
   "language": "python",
   "name": "python3"
  },
  "language_info": {
   "codemirror_mode": {
    "name": "ipython",
    "version": 3
   },
   "file_extension": ".py",
   "mimetype": "text/x-python",
   "name": "python",
   "nbconvert_exporter": "python",
   "pygments_lexer": "ipython3",
   "version": "3.10.1"
  }
 },
 "nbformat": 4,
 "nbformat_minor": 1
}
